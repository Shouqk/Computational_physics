{
 "cells": [
  {
   "cell_type": "markdown",
   "id": "408dafff",
   "metadata": {},
   "source": [
    "<img src=\"image.png\" style=\"width:660px;height:380px\" align=\"left\"/>"
   ]
  },
  {
   "cell_type": "markdown",
   "id": "7413bdfd",
   "metadata": {},
   "source": [
    "---------------"
   ]
  },
  {
   "cell_type": "markdown",
   "id": "9faee5ae",
   "metadata": {},
   "source": [
    "## <span style='color:purple'>  Discretization explicit method  </span> "
   ]
  },
  {
   "cell_type": "markdown",
   "id": "b4600a95",
   "metadata": {},
   "source": [
    "<img src=\"unnamed.png\" style=\"width:200px;height:80px\" align=\"left\"/>"
   ]
  },
  {
   "cell_type": "markdown",
   "id": "0334b434",
   "metadata": {},
   "source": [
    "<img src=\"exp1.png\" style=\"width:600px;height:80px\" align=\"left\"/>"
   ]
  },
  {
   "cell_type": "markdown",
   "id": "3fac0945",
   "metadata": {},
   "source": [
    "<img src=\"exp3.png\" style=\"width:600px;height:75px\" align=\"left\"/>"
   ]
  },
  {
   "cell_type": "code",
   "execution_count": 63,
   "id": "b5d7dea7",
   "metadata": {},
   "outputs": [],
   "source": [
    "import numpy as np\n",
    "\n",
    "#thermal diffusivity(m^2/s)\n",
    "a=0.01\n",
    "\n",
    "#convection velocity(m/s)\n",
    "u=0.1\n",
    "\n",
    "#length \n",
    "L = 1\n",
    "\n",
    "dx=0.2\n",
    "dt=0.5\n",
    "ti=0\n",
    "tf=100\n",
    "\n",
    "x = np.arange(0, dx+L, dx)\n",
    "t = np.arange(ti, dt+tf, dt)\n",
    "\n",
    "boundaryconditions = [100, 0]\n",
    "initialconditions = 100*(x/L)\n",
    "\n",
    "n = len(x)\n",
    "m = len(t)\n",
    "\n",
    "T = np.zeros((n,m))\n",
    "T[0,:] = boundaryconditions[0]\n",
    "T[-1, :] = boundaryconditions[1]\n",
    "T[:, 0] = initialconditions\n",
    "beta=(u*dt)/(2*(dx))\n",
    "lamda=(a*dt)/dx**2\n",
    "\n",
    "for j in range(1, m):\n",
    "    for i in range(1, n-1):\n",
    "        T[i,j] = (lamda-beta)*T[i+1, j-1] + (1-2*lamda)*T[i, j-1] + (lamda+beta)*T[i-1, j-1] #eq (1)\n",
    "\n"
   ]
  },
  {
   "cell_type": "code",
   "execution_count": null,
   "id": "37a40a1c",
   "metadata": {},
   "outputs": [],
   "source": []
  }
 ],
 "metadata": {
  "kernelspec": {
   "display_name": "Python 3",
   "language": "python",
   "name": "python3"
  },
  "language_info": {
   "codemirror_mode": {
    "name": "ipython",
    "version": 3
   },
   "file_extension": ".py",
   "mimetype": "text/x-python",
   "name": "python",
   "nbconvert_exporter": "python",
   "pygments_lexer": "ipython3",
   "version": "3.9.5"
  }
 },
 "nbformat": 4,
 "nbformat_minor": 5
}
